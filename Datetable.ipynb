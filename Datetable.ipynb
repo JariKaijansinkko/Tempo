{
 "cells": [
  {
   "cell_type": "code",
   "execution_count": null,
   "metadata": {},
   "outputs": [],
   "source": [
    "import pandas as pd\n",
    "import numpy as np\n",
    "import datetime as dt\n",
    "from workalendar.europe import Finland"
   ]
  },
  {
   "cell_type": "code",
   "execution_count": null,
   "metadata": {},
   "outputs": [],
   "source": [
    "def get_holiday_dates(cal_object, year_start = 2010, year_end = 2050):\n",
    "    year = year_start\n",
    "    holiday_dates = []\n",
    "\n",
    "    while year <= year_end:\n",
    "        year_holidays = cal_object.holidays(year)\n",
    "        holiday_dates = holiday_dates + year_holidays\n",
    "        year += 1\n",
    "\n",
    "    return(holiday_dates)"
   ]
  },
  {
   "cell_type": "code",
   "execution_count": null,
   "metadata": {},
   "outputs": [],
   "source": [
    "# get holidays for finland\n",
    "cal = Finland()\n",
    "holidays = get_holiday_dates(cal, 2010, 2050)"
   ]
  },
  {
   "cell_type": "code",
   "execution_count": null,
   "metadata": {},
   "outputs": [],
   "source": [
    "# create dataframe\n",
    "df_holidays = pd.DataFrame(holidays)\n",
    "df_holidays.columns = ['date', 'holiday']\n",
    "df_holidays.tail(10)"
   ]
  },
  {
   "cell_type": "code",
   "execution_count": null,
   "metadata": {},
   "outputs": [],
   "source": [
    "def create_date_table(start, end):\n",
    "    df = pd.DataFrame({\"Date\": pd.date_range(start, end)})\n",
    "    df[\"Day\"] = df.Date.dt.day_name()\n",
    "    df[\"Week\"] = df.Date.dt.isocalendar().week\n",
    "    df[\"Quarter\"] = df.Date.dt.quarter\n",
    "    df[\"Year\"] = df.Date.dt.year\n",
    "    df[\"Year_half\"] = (df.Quarter + 1) // 2\n",
    "    return df"
   ]
  },
  {
   "cell_type": "code",
   "execution_count": null,
   "metadata": {},
   "outputs": [],
   "source": [
    "# create a dataframe with all dates\n",
    "df_dates = create_date_table(start='2010-01-01', end='2050-12-31')\n",
    "df_dates.head(1)"
   ]
  },
  {
   "cell_type": "code",
   "execution_count": null,
   "metadata": {},
   "outputs": [],
   "source": [
    "# add column is_workday based on df_holidays and weekends\n",
    "df_dates['Is_workday'] = np.where(  (~df_dates['Day'].isin(['Saturday', 'Sunday']) ), True, False)\n",
    "\n",
    "df_dates['Is_workday'] = np.where( ( (~df_dates['Date'].isin(list(df_holidays['date'])) ) & (~df_dates['Day'].isin(['Saturday', 'Sunday'])) ), True, False)\n",
    "df_dates.tail(10)"
   ]
  },
  {
   "cell_type": "code",
   "execution_count": null,
   "metadata": {},
   "outputs": [],
   "source": [
    "# add datekey column\n",
    "df_dates['Date_key'] = df_dates.apply( lambda row: int(f'{row.Year}{row.Month}{row.Day}'))"
   ]
  }
 ],
 "metadata": {
  "language_info": {
   "name": "python"
  },
  "orig_nbformat": 4
 },
 "nbformat": 4,
 "nbformat_minor": 2
}
