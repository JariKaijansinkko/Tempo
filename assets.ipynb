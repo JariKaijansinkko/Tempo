{
 "cells": [
  {
   "cell_type": "code",
   "execution_count": null,
   "metadata": {},
   "outputs": [],
   "source": [
    "import requests\n",
    "import json\n",
    "import os\n",
    "import pandas as pd\n",
    "from pprint import pprint\n",
    "from dotenv import load_dotenv\n",
    "\n",
    "load_dotenv()"
   ]
  },
  {
   "cell_type": "code",
   "execution_count": null,
   "metadata": {},
   "outputs": [],
   "source": [
    "access_token = os.getenv('JIRA_API_TOKEN')\n",
    "\n",
    "base_url = \"https://jira.eficode.com\"\n",
    "\n"
   ]
  },
  {
   "cell_type": "code",
   "execution_count": null,
   "metadata": {},
   "outputs": [],
   "source": [
    "url = f'{base_url}/rest/tempo-planning/1/allocation'\n",
    "header = {'Authorization': f'Bearer {access_token}', 'Content-Type': 'application/json'}\n",
    "res = requests.get(url=url, headers=header)\n",
    "\n",
    "print(res.status_code)\n",
    "data = res.json()"
   ]
  },
  {
   "cell_type": "code",
   "execution_count": null,
   "metadata": {},
   "outputs": [],
   "source": [
    "# https://jira.eficode.com/rest/assets/1.0/aql/objects\n",
    "\n",
    "import requests\n",
    "import json\n",
    "\n",
    "\n",
    "base_url = \"https://jira.eficode.com\"\n",
    "# url =  f'{base_url}/rest/tempo-teams/2/team'\n",
    "# url =  f'{base_url}/rest/tempo-teams/2/team/{42}/member'\n",
    "# url =  f'{base_url}/rest/tempo-timesheets/44/worklogs'\n",
    "\n",
    "url =  f'{base_url}/rest/assets/1.0/aql/objects'\n",
    "# url =  f'{base_url}/rest/tempo-planning/1/allocation/502/'\n",
    "# 376'\n",
    "\n",
    "# url =  f'{base_url}/rest/tempo-teams/2/team'\n",
    "# http://{JIRA_BASE_URL}/rest/tempo-teams/2/team\n",
    "\n",
    "# url =  f'{base_url}/rest/tempo-teams/2/team/44/member'\n",
    "# http://{JIRA_BASE_URL}/rest/tempo-teams/2/team/{id}/member\n",
    "\n",
    "# http://{JIRA_BASE_URL}/rest/tempo-timesheets/4/timesheet-approval\n",
    "header = {'Authorization': f'Bearer {access_token}', 'Content-Type': 'application/json'}\n",
    "res = requests.get(url=url, headers=header)\n",
    "# 142207\n",
    "# http://{JIRA_BASE_URL}/rest/tempo-planning/1/allocation\n",
    "# http://{JIRA_BASE_URL}/rest/tempo-planning/1/allocation/{allocationId}\n",
    "\n",
    "print(res.status_code)\n",
    "data = res.json()\n",
    "with open('assetlist.json', 'w') as file:\n",
    "    json.dump(data, file)\n",
    "\n",
    "\n"
   ]
  }
 ],
 "metadata": {
  "language_info": {
   "name": "python"
  },
  "orig_nbformat": 4
 },
 "nbformat": 4,
 "nbformat_minor": 2
}
