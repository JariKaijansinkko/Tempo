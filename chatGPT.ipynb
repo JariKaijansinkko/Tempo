{
 "cells": [
  {
   "cell_type": "code",
   "execution_count": null,
   "metadata": {},
   "outputs": [],
   "source": [
    "import requests\n",
    "import json\n",
    "\n",
    "# Replace the following variables with your own values\n",
    "TEMPO_API_TOKEN = \"tempo_api_token\"\n",
    "TEMPO_API_HOST = \"api.tempo.io\"\n",
    "TEMPO_TEAM_ID = \"team_id\"\n",
    "\n",
    "# Set up the API endpoint and headers\n",
    "url = f\"https://{TEMPO_API_HOST}/core/3/teams/{TEMPO_TEAM_ID}/members\"\n",
    "headers = {\n",
    "    \"Authorization\": f\"Bearer {TEMPO_API_TOKEN}\",\n",
    "    \"Content-Type\": \"application/json\"\n",
    "}\n",
    "\n",
    "# Make the API request\n",
    "response = requests.get(url, headers=headers)\n",
    "\n",
    "# Check for any errors\n",
    "response.raise_for_status()\n",
    "\n",
    "# Parse the response and print the team members' information\n",
    "team_data = json.loads(response.text)\n",
    "for member in team_data:\n",
    "    print(f\"Display Name: {member['member']['displayName']}\")\n",
    "    print(f\"Email Address: {member['member']['email']}\")\n",
    "    print(f\"Account ID: {member['member']['accountId']}\")\n",
    "    print()\n"
   ]
  }
 ],
 "metadata": {
  "language_info": {
   "name": "python"
  },
  "orig_nbformat": 4
 },
 "nbformat": 4,
 "nbformat_minor": 2
}
