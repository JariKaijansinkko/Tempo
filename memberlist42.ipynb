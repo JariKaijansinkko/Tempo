{
 "cells": [
  {
   "cell_type": "code",
   "execution_count": 13,
   "metadata": {},
   "outputs": [
    {
     "data": {
      "text/plain": [
       "True"
      ]
     },
     "execution_count": 13,
     "metadata": {},
     "output_type": "execute_result"
    }
   ],
   "source": [
    "import requests\n",
    "import json\n",
    "import os\n",
    "import pandas as pd\n",
    "from pprint import pprint\n",
    "from dotenv import load_dotenv\n",
    "\n",
    "load_dotenv()"
   ]
  },
  {
   "cell_type": "code",
   "execution_count": 14,
   "metadata": {},
   "outputs": [
    {
     "name": "stdout",
     "output_type": "stream",
     "text": [
      "jani.lundan  \t \tJani Lundan  \t \t100\n",
      "jarkko.sillanpaa  \t \tJarkko Sillanpää  \t \t100\n",
      "juha.patrikainen  \t \tJuha Patrikainen  \t \t100\n",
      "juho.lehtonen  \t \tJuho Lehtonen  \t \t100\n",
      "jukka.haavisto  \t \tJukka Haavisto  \t \t100\n",
      "jyri.tienhaara  \t \tJyri Tienhaara  \t \t100\n",
      "kai.jokiniemi  \t \tKai Jokiniemi  \t \t100\n",
      "matias.ijas  \t \tMatias Ijäs  \t \t100\n",
      "mika.tavi  \t \tMika Tavi  \t \t100\n",
      "tapio.tuomisto  \t \tTapio Tuomisto  \t \t100\n",
      "teemu.partanen  \t \tTeemu Partanen  \t \t100\n",
      "tuomas.kara  \t \tTuomas Kara  \t \t100\n",
      "vilma.pohjonen  \t \tVilma Pohjonen  \t \t100\n"
     ]
    }
   ],
   "source": [
    "\n",
    "access_token = os.getenv('JIRA_API_TOKEN')\n",
    "\n",
    "base_url = \"https://jira.eficode.com\"\n",
    "\n",
    "url =  f'{base_url}/rest/tempo-teams/2/team/{42}/member'\n",
    "#\n",
    "header = {'Authorization': f'Bearer {access_token}', 'Content-Type': 'application/json'}\n",
    "# team_members = requests.get(url=url, headers=header)\n",
    "\n",
    "\"\"\" print(res.status_code)\n",
    "data = res.json()\n",
    "with open('memberlist42.json', 'w') as file:\n",
    "    json.dump(data, file)\n",
    " \"\"\"\n",
    "\n",
    "team_members = requests.get(f'{base_url}/rest/tempo-teams/2/team/42/member', headers=header).json()\n",
    "for member in team_members:\n",
    "    print(member['member']['name'] + '  \\t \\t'  + member['member']['displayname']+ '  \\t \\t'  + member['membership']['availability'])"
   ]
  }
 ],
 "metadata": {
  "kernelspec": {
   "display_name": "Python 3",
   "language": "python",
   "name": "python3"
  },
  "language_info": {
   "codemirror_mode": {
    "name": "ipython",
    "version": 3
   },
   "file_extension": ".py",
   "mimetype": "text/x-python",
   "name": "python",
   "nbconvert_exporter": "python",
   "pygments_lexer": "ipython3",
   "version": "3.11.1"
  },
  "orig_nbformat": 4,
  "vscode": {
   "interpreter": {
    "hash": "da878befc36ce6aa86b49049638551a74057ed0b2e427574c641c45ff901ad2b"
   }
  }
 },
 "nbformat": 4,
 "nbformat_minor": 2
}
