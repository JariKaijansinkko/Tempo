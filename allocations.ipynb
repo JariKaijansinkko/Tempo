{
 "cells": [
  {
   "cell_type": "code",
   "execution_count": 1,
   "metadata": {},
   "outputs": [
    {
     "name": "stdout",
     "output_type": "stream",
     "text": [
      "200\n"
     ]
    }
   ],
   "source": [
    "import requests\n",
    "import json\n",
    "\n",
    "access_token = os.getenv('JIRA_API_TOKEN')\n",
    "\n",
    "base_url = \"https://jira.eficode.com\"\n",
    "\n",
    "url =  f'{base_url}/rest/tempo-planning/1/allocation'\n",
    "\n",
    "header = {'Authorization': f'Bearer {access_token}', 'Content-Type': 'application/json'}\n",
    "res = requests.get(url=url, headers=header)\n",
    "\n",
    "print(res.status_code)\n",
    "data = res.json()\n",
    "with open('allocationlist2.json', 'w') as file:\n",
    "    json.dump(data, file)\n"
   ]
  }
 ],
 "metadata": {
  "kernelspec": {
   "display_name": "Python 3",
   "language": "python",
   "name": "python3"
  },
  "language_info": {
   "codemirror_mode": {
    "name": "ipython",
    "version": 3
   },
   "file_extension": ".py",
   "mimetype": "text/x-python",
   "name": "python",
   "nbconvert_exporter": "python",
   "pygments_lexer": "ipython3",
   "version": "3.11.1"
  },
  "orig_nbformat": 4,
  "vscode": {
   "interpreter": {
    "hash": "da878befc36ce6aa86b49049638551a74057ed0b2e427574c641c45ff901ad2b"
   }
  }
 },
 "nbformat": 4,
 "nbformat_minor": 2
}
