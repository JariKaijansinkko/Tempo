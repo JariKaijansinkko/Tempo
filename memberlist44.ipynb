{
 "cells": [
  {
   "cell_type": "code",
   "execution_count": null,
   "metadata": {},
   "outputs": [],
   "source": [
    "import requests\n",
    "import json\n",
    "import os\n",
    "import pandas as pd\n",
    "from pprint import pprint\n",
    "from dotenv import load_dotenv\n",
    "\n",
    "load_dotenv()"
   ]
  },
  {
   "cell_type": "code",
   "execution_count": null,
   "metadata": {},
   "outputs": [],
   "source": [
    "\n",
    "\n",
    "access_token = os.getenv('JIRA_API_TOKEN')\n",
    "\n",
    "base_url = \"https://jira.eficode.com\"\n",
    "\n",
    "url =  f'{base_url}/rest/tempo-teams/2/team/{44}/member'\n",
    "#\n",
    "header = {'Authorization': f'Bearer {access_token}', 'Content-Type': 'application/json'}\n",
    "res = requests.get(url=url, headers=header)\n",
    "\n",
    "\n",
    "print(res.status_code)\n",
    "data = res.json()\n",
    "with open('memberlist44.json', 'w') as file:\n",
    "    json.dump(data, file)\n",
    "\n",
    "\n"
   ]
  }
 ],
 "metadata": {
  "language_info": {
   "name": "python"
  },
  "orig_nbformat": 4
 },
 "nbformat": 4,
 "nbformat_minor": 2
}
