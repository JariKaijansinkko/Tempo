{
 "cells": [
  {
   "cell_type": "code",
   "execution_count": null,
   "metadata": {},
   "outputs": [],
   "source": [
    "import requests\n",
    "import json\n",
    "\n",
    "access_token = 'NTA1NTMwNjUwNzc5OoOH3luGgEjGJJ1tjhobStiRmOVk'\n",
    "base_url = \"https://jira.eficode.com\"\n",
    "\n",
    "url =  f'{base_url}/rest/tempo-teams/2/team/{44}/member'\n",
    "#\n",
    "header = {'Authorization': f'Bearer {access_token}', 'Content-Type': 'application/json'}\n",
    "res = requests.get(url=url, headers=header)\n",
    "\n",
    "\n",
    "print(res.status_code)\n",
    "data = res.json()\n",
    "with open('memberlist44.json', 'w') as file:\n",
    "    json.dump(data, file)\n",
    "\n",
    "\n"
   ]
  }
 ],
 "metadata": {
  "language_info": {
   "name": "python"
  },
  "orig_nbformat": 4
 },
 "nbformat": 4,
 "nbformat_minor": 2
}
