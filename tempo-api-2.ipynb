{
 "cells": [
  {
   "cell_type": "code",
   "execution_count": 64,
   "metadata": {},
   "outputs": [
    {
     "data": {
      "text/plain": [
       "True"
      ]
     },
     "execution_count": 64,
     "metadata": {},
     "output_type": "execute_result"
    }
   ],
   "source": [
    "import requests\n",
    "import json\n",
    "import os\n",
    "import pandas as pd\n",
    "from pprint import pprint\n",
    "from dotenv import load_dotenv\n",
    "\n",
    "load_dotenv()"
   ]
  },
  {
   "cell_type": "code",
   "execution_count": 65,
   "metadata": {},
   "outputs": [],
   "source": [
    "base_url = \"https://jira.eficode.com\"\n",
    "access_token = os.getenv('JIRA_API_TOKEN')\n"
   ]
  },
  {
   "cell_type": "code",
   "execution_count": 66,
   "metadata": {},
   "outputs": [
    {
     "name": "stdout",
     "output_type": "stream",
     "text": [
      "200\n"
     ]
    }
   ],
   "source": [
    "url = f'{base_url}/rest/tempo-planning/1/allocation'\n",
    "header = {'Authorization': f'Bearer {access_token}', 'Content-Type': 'application/json'}\n",
    "res = requests.get(url=url, headers=header)\n",
    "\n",
    "print(res.status_code)\n",
    "data = res.json()"
   ]
  },
  {
   "cell_type": "code",
   "execution_count": 67,
   "metadata": {},
   "outputs": [],
   "source": [
    "df = pd.DataFrame(columns=['plan_id', 'employee', 'start', 'end', 'hours_day', 'employee_day'])\n",
    "\n",
    "\n",
    "for plan in data:\n",
    "    row = {'plan_id': plan['id'], 'employee': plan['assignee']['key'], 'start': plan['start'], 'end': plan['end'], 'hours_day': int(plan['secondsPerDay'])/(60*60)}\n",
    "    df.loc[len(df)] = row\n",
    "\n",
    "df['start'] = pd.to_datetime(df['start'], format='%Y/%m/%d')\n",
    "df['end'] = pd.to_datetime(df['end'], format='%Y/%m/%d')\n",
    "\n",
    "# Drop rows where the value in the 'employee' column equals a certain value\n",
    "value_to_drop = '1'\n",
    "df = df[df['employee'] != value_to_drop]\n",
    "# dfgroup = df\n",
    "\n",
    "# df"
   ]
  },
  {
   "cell_type": "code",
   "execution_count": 68,
   "metadata": {},
   "outputs": [],
   "source": [
    "\n",
    "\n",
    "\n",
    "\n",
    "employee_data = df.copy()\n",
    "# employee_data\n",
    "\n"
   ]
  },
  {
   "cell_type": "code",
   "execution_count": null,
   "metadata": {},
   "outputs": [],
   "source": []
  },
  {
   "cell_type": "code",
   "execution_count": 69,
   "metadata": {},
   "outputs": [
    {
     "name": "stderr",
     "output_type": "stream",
     "text": [
      "C:\\Users\\JariKaijansinkko\\AppData\\Local\\Temp\\ipykernel_14396\\4107993517.py:34: UserWarning: Parsing dates in DD/MM/YYYY format when dayfirst=False (the default) was specified. This may lead to inconsistently parsed dates! Specify a format to ensure consistent parsing.\n",
      "  all_dates = pd.date_range(start=begin, end=end, freq='D')\n"
     ]
    }
   ],
   "source": [
    "''\n",
    "\n",
    "df['date_range'] = df.apply(lambda row: pd.date_range(start=row['start'], end=row['end'], freq='D'), axis=1)\n",
    "\n",
    "df_exploded = df.explode('date_range')\n",
    "\n",
    "df_summed = df_exploded.groupby(['date_range', 'employee'])['hours_day'].sum().reset_index()\n",
    "# df_summed\n",
    "plans = df_exploded.groupby(['date_range', 'employee'])['plan_id'].agg(lambda x: list(x)).reset_index()\n",
    "# Merge the new data frame with the employee data\n",
    "merged_data = pd.merge(df_summed, plans, how='left')\n",
    "# Read in the date table\n",
    "date_table = pd.read_csv('Datetable.csv', parse_dates=['Date'])\n",
    "# Convert the date column to a datetime object\n",
    "date_table['Date'] = pd.to_datetime(date_table['Date'], format='%Y/%m/%d')\n",
    "\n",
    "date_table.set_index('Date', inplace=True)\n",
    "\n",
    "\n",
    "df['date'] = df.apply(lambda row: pd.date_range(start=row['start'], end=row['end'], freq='D'), axis=1)\n",
    "\n",
    "df_exploded = df.explode('date')\n",
    "\n",
    "df_hours_sum = df_exploded.groupby(['date', 'employee'])['hours_day'].sum().reset_index()\n",
    "df_plan_agg = df_exploded.groupby(['date', 'employee'])['plan_id'].agg(lambda x: list(x)).reset_index()\n",
    "\n",
    "df_merged = pd.merge(df_hours_sum, df_plan_agg, on=['date', 'employee'])\n",
    "# Read in the date table and employee data table\n",
    "date_df = pd.read_csv('Datetable.csv')\n",
    "\n",
    "begin = '1/1/2022'\n",
    "end = '31/12/2024'\n",
    "\n",
    "all_dates = pd.date_range(start=begin, end=end, freq='D')\n",
    "all_names = df_merged['employee'].unique()\n",
    "name_date_df = pd.MultiIndex.from_product([all_names, all_dates], names=['employee', 'date']).to_frame(index=False)\n",
    "\n",
    "df_all_days = pd.merge(name_date_df, df_merged, on=['employee', 'date'], how='left').fillna({'hours_day': 0})\n",
    "\n",
    "df_all_days['date'] = df_all_days['date'].dt.floor('D')\n",
    "df_all_days[df_all_days['employee'] == 'tuomas.kara']\n",
    "\n",
    "\n",
    "# row.info()\n",
    "# dates_df.info()\n",
    "merged_data = df_all_days.copy()\n",
    "\n",
    "merged_data.set_index('date', inplace=True)\n",
    "\n",
    "merged_data['allocation'] = 'Not fully allocated'\n",
    "\n",
    "merged_data.loc[merged_data['hours_day'] >= 7.5, 'allocation'] = 'Fully allocated'\n",
    "merged_data.loc[merged_data['hours_day'] <= 0.1, 'allocation'] = 'Not allocated'\n",
    "\n",
    "merged_data['is_workday'] = False\n",
    "# merged_data.loc[date_table['is_workday'] == True, 'is_workday'] = True\n",
    "# merged_data.loc[date_table['is_workday'] == False, 'is_workday'] = False\n",
    "\"\"\" merged_data['coefficient'] = 0.5\n",
    "\n",
    "\n",
    "\n",
    "merged_data.loc[merged_data['hours_day'] >= 7.5, 'coefficient'] = 1.0\n",
    "merged_data.loc[merged_data['hours_day'] <= 0.1, 'coefficient'] = 0.0 \"\"\"\n",
    "\n",
    "# df_all_days = pd.merge(merged_data, date_table, on=['is_workday'], how='left')\n",
    "\n",
    "# merged_data.loc[merged_data['hours_day'] < 7.5 and merged_data['hours_day'] > 0.1 , 'allocation'] = 'Partly allocated'\n",
    "# merged_data['allocation'] = ''\n",
    "\n",
    "# date_table = pd.read_csv('Datetable.csv', parse_dates=['Date'])\n",
    "\n",
    "# rowvalue\n",
    "# plans\n",
    "# df_summed\n",
    "# merged_data\n",
    "\n",
    "# Write the updated data frame to a new CSV file\n",
    "# merged_data.to_csv('updated_employee_data.csv', index=False)'Api.ipynb\n",
    "# selecting old value\n",
    "# a = merged_data['is_workday']\n",
    "\n",
    "# selecting new value\n",
    "# b = date_table['is_workday']\n",
    "\n",
    "\n",
    "# replace values of one DataFrame\n",
    "# with the value of another DataFrame\n",
    "# merged_data = merged_data.replace(a,b)\n",
    "\n",
    "merged_data['is_workday'] =date_table['is_workday']\n",
    "\n",
    "\n",
    "# Display the Output\n",
    "# display(merged_data)\n",
    "\n",
    "\n",
    "merged_data.to_csv('updated_employee_data.csv', index=True)\n"
   ]
  },
  {
   "cell_type": "code",
   "execution_count": null,
   "metadata": {},
   "outputs": [],
   "source": []
  },
  {
   "cell_type": "code",
   "execution_count": 70,
   "metadata": {},
   "outputs": [],
   "source": [
    "# merged_data.groupby('employee').sum()\n",
    "\n",
    "# pivot_data\n",
    "\n",
    "# date_range"
   ]
  },
  {
   "cell_type": "code",
   "execution_count": 71,
   "metadata": {},
   "outputs": [],
   "source": [
    "res = requests.get(f'{base_url}/rest/tempo-teams/2/team', headers=header)\n",
    "teams = res.json()"
   ]
  },
  {
   "cell_type": "code",
   "execution_count": 72,
   "metadata": {},
   "outputs": [
    {
     "name": "stdout",
     "output_type": "stream",
     "text": [
      "jani.lundan\n",
      "jarkko.sillanpaa\n",
      "juha.patrikainen\n",
      "juho.lehtonen\n",
      "jukka.haavisto\n",
      "jyri.tienhaara\n",
      "kai.jokiniemi\n",
      "matias.ijas\n",
      "mika.tavi\n",
      "tapio.tuomisto\n",
      "teemu.partanen\n",
      "tuomas.kara\n",
      "vilma.pohjonen\n"
     ]
    }
   ],
   "source": [
    "team_members = requests.get(f'{base_url}/rest/tempo-teams/2/team/42/member', headers=header).json()\n",
    "for member in team_members:\n",
    "    print(member['member']['name'])"
   ]
  }
 ],
 "metadata": {
  "kernelspec": {
   "display_name": "Python 3",
   "language": "python",
   "name": "python3"
  },
  "language_info": {
   "codemirror_mode": {
    "name": "ipython",
    "version": 3
   },
   "file_extension": ".py",
   "mimetype": "text/x-python",
   "name": "python",
   "nbconvert_exporter": "python",
   "pygments_lexer": "ipython3",
   "version": "3.11.1"
  },
  "orig_nbformat": 4
 },
 "nbformat": 4,
 "nbformat_minor": 2
}
