{
 "cells": [
  {
   "cell_type": "code",
   "execution_count": null,
   "metadata": {},
   "outputs": [],
   "source": [
    "import requests\n",
    "import json\n",
    "import os\n",
    "import pandas as pd\n",
    "from pprint import pprint\n",
    "from dotenv import load_dotenv\n",
    "\n",
    "load_dotenv()"
   ]
  },
  {
   "cell_type": "code",
   "execution_count": 18,
   "metadata": {},
   "outputs": [
    {
     "data": {
      "text/plain": [
       "{'errors': {}, 'errorMessages': [], 'reasons': []}"
      ]
     },
     "execution_count": 18,
     "metadata": {},
     "output_type": "execute_result"
    }
   ],
   "source": [
    "\n",
    "\n",
    "\n",
    "access_token = os.getenv('JIRA_API_TOKEN')\n",
    "base_url = \"https://jira.eficode.com\"\n",
    "\n",
    "url =  f'{base_url}/rest/tempo-timesheets/4/worklogs/{479}'\n",
    "header = {'Authorization': f'Bearer {access_token}', 'Content-Type': 'application/json'}\n",
    "res = requests.get(url=url, headers=header)\n",
    "\n",
    "res.json()\n",
    "\n",
    "# http://{JIRA_BASE_URL}/rest/tempo-timesheets/4/worklogs/{worklogId}\n",
    "\n"
   ]
  },
  {
   "cell_type": "code",
   "execution_count": 19,
   "metadata": {},
   "outputs": [
    {
     "name": "stdout",
     "output_type": "stream",
     "text": [
      "400\n"
     ]
    }
   ],
   "source": [
    "print(res.status_code)\n",
    "data = res.json()\n",
    "with open('allallocations.json', 'w') as file:\n",
    "    json.dump(data, file)\n"
   ]
  }
 ],
 "metadata": {
  "kernelspec": {
   "display_name": "Python 3",
   "language": "python",
   "name": "python3"
  },
  "language_info": {
   "codemirror_mode": {
    "name": "ipython",
    "version": 3
   },
   "file_extension": ".py",
   "mimetype": "text/x-python",
   "name": "python",
   "nbconvert_exporter": "python",
   "pygments_lexer": "ipython3",
   "version": "3.11.1"
  },
  "orig_nbformat": 4,
  "vscode": {
   "interpreter": {
    "hash": "da878befc36ce6aa86b49049638551a74057ed0b2e427574c641c45ff901ad2b"
   }
  }
 },
 "nbformat": 4,
 "nbformat_minor": 2
}
