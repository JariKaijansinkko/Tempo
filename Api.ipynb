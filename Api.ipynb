{
 "cells": [
  {
   "cell_type": "code",
   "execution_count": 2,
   "metadata": {},
   "outputs": [
    {
     "name": "stdout",
     "output_type": "stream",
     "text": [
      "200\n"
     ]
    }
   ],
   "source": [
    "import requests\n",
    "import json\n",
    "import os\n",
    "import pandas as pd\n",
    "from pprint import pprint\n",
    "from dotenv import load_dotenv\n",
    "\n",
    "load_dotenv()\n",
    "\n",
    "access_token = os.getenv('JIRA_API_TOKEN')\n",
    "\n",
    "\n",
    "base_url = \"https://jira.eficode.com\"\n",
    "# url =  f'{base_url}/rest/tempo-teams/2/team'\n",
    "# url =  f'{base_url}/rest/tempo-teams/2/team/{42}/member'\n",
    "# url =  f'{base_url}/rest/tempo-timesheets/44/worklogs'\n",
    "\n",
    "url =  f'{base_url}/rest/tempo-planning/1/allocation'\n",
    "# url =  f'{base_url}/rest/tempo-planning/1/allocation/502/'\n",
    "# 376'\n",
    "\n",
    "# url =  f'{base_url}/rest/tempo-teams/2/team'\n",
    "# http://{JIRA_BASE_URL}/rest/tempo-teams/2/team\n",
    "\n",
    "# url =  f'{base_url}/rest/tempo-teams/2/team/44/member'\n",
    "# http://{JIRA_BASE_URL}/rest/tempo-teams/2/team/{id}/member\n",
    "\n",
    "# http://{JIRA_BASE_URL}/rest/tempo-timesheets/4/timesheet-approval\n",
    "header = {'Authorization': f'Bearer {access_token}', 'Content-Type': 'application/json'}\n",
    "res = requests.get(url=url, headers=header)\n",
    "# 142207\n",
    "# http://{JIRA_BASE_URL}/rest/tempo-planning/1/allocation\n",
    "# http://{JIRA_BASE_URL}/rest/tempo-planning/1/allocation/{allocationId}\n",
    "\n",
    "print(res.status_code)\n",
    "data = res.json()\n",
    "with open('allocationlist3.json', 'w') as file:\n",
    "    json.dump(data, file)\n",
    "\n",
    "\n"
   ]
  },
  {
   "attachments": {},
   "cell_type": "markdown",
   "metadata": {},
   "source": [
    "api docs:\n",
    "https://www.tempo.io/server-api-documentation/planner#tag/Allocation/operation/deleteAllocation\n",
    "\n"
   ]
  }
 ],
 "metadata": {
  "kernelspec": {
   "display_name": "Python 3",
   "language": "python",
   "name": "python3"
  },
  "language_info": {
   "codemirror_mode": {
    "name": "ipython",
    "version": 3
   },
   "file_extension": ".py",
   "mimetype": "text/x-python",
   "name": "python",
   "nbconvert_exporter": "python",
   "pygments_lexer": "ipython3",
   "version": "3.11.1"
  },
  "orig_nbformat": 4,
  "vscode": {
   "interpreter": {
    "hash": "da878befc36ce6aa86b49049638551a74057ed0b2e427574c641c45ff901ad2b"
   }
  }
 },
 "nbformat": 4,
 "nbformat_minor": 2
}
